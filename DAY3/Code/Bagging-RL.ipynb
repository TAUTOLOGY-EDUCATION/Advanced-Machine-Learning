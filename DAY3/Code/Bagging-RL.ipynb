{
 "cells": [
  {
   "cell_type": "code",
   "execution_count": null,
   "id": "ec1187d5",
   "metadata": {},
   "outputs": [],
   "source": [
    "import numpy as np\n",
    "import gym\n",
    "\n",
    "# Define the number of base models\n",
    "num_models = 5\n",
    "\n",
    "# Initialize an empty list to store base models\n",
    "models = []\n",
    "\n",
    "# Create and train base models\n",
    "for _ in range(num_models):\n",
    "    env = gym.make('CartPole-v1')\n",
    "    model = RLalgorithm()  # Initialize your chosen RL algorithm\n",
    "    model.train(env)\n",
    "    models.append(model)\n",
    "\n",
    "# Bagging: Aggregate predictions\n",
    "def bagging_action(observation):\n",
    "    actions = [model.predict(observation) for model in models]\n",
    "    return np.argmax(np.bincount(actions))\n",
    "\n",
    "# Evaluate performance\n",
    "total_rewards = []\n",
    "for _ in range(100):\n",
    "    observation = env.reset()\n",
    "    total_reward = 0\n",
    "    done = False\n",
    "    while not done:\n",
    "        action = bagging_action(observation)\n",
    "        observation, reward, done, info = env.step(action)\n",
    "        total_reward += reward\n",
    "    total_rewards.append(total_reward)\n",
    "\n",
    "print(\"Average Total Reward:\", np.mean(total_rewards))\n"
   ]
  }
 ],
 "metadata": {
  "kernelspec": {
   "display_name": "Python 3 (ipykernel)",
   "language": "python",
   "name": "python3"
  },
  "language_info": {
   "codemirror_mode": {
    "name": "ipython",
    "version": 3
   },
   "file_extension": ".py",
   "mimetype": "text/x-python",
   "name": "python",
   "nbconvert_exporter": "python",
   "pygments_lexer": "ipython3",
   "version": "3.11.7"
  }
 },
 "nbformat": 4,
 "nbformat_minor": 5
}
